{
 "cells": [
  {
   "cell_type": "code",
   "execution_count": 1,
   "id": "35c5202f",
   "metadata": {},
   "outputs": [
    {
     "name": "stdout",
     "output_type": "stream",
     "text": [
      "/home/ngocson/WorkSpace/AIEngineering/QnA-System-using-RAG\n"
     ]
    }
   ],
   "source": [
    "import os\n",
    "print(os.getcwd())\n"
   ]
  },
  {
   "cell_type": "code",
   "execution_count": 2,
   "id": "f0822d86",
   "metadata": {},
   "outputs": [],
   "source": [
    "from src.ingestion.pdf_reader import PDFReader"
   ]
  },
  {
   "cell_type": "code",
   "execution_count": 6,
   "id": "7a016104",
   "metadata": {},
   "outputs": [
    {
     "name": "stderr",
     "output_type": "stream",
     "text": [
      "[2025-10-20 08:29:15,028] - [PDFReader] - INFO : Đang đọc PDF với PyMuPDF: data/raw/bao_cao_ imagecaptioning.pdf\n",
      "[2025-10-20 08:29:15,028] - [PDFReader] - INFO : Đang đọc PDF với PyMuPDF: data/raw/bao_cao_ imagecaptioning.pdf\n",
      "[2025-10-20 08:29:15,028] - [PDFReader] - INFO : Đang đọc PDF với PyMuPDF: data/raw/bao_cao_ imagecaptioning.pdf\n",
      "[2025-10-20 08:29:15,028] - [PDFReader] - INFO : Đang đọc PDF với PyMuPDF: data/raw/bao_cao_ imagecaptioning.pdf\n"
     ]
    },
    {
     "name": "stdout",
     "output_type": "stream",
     "text": [
      "\n",
      "--- PAGE 1 ---\n",
      "Bộ Giáo Dục và Đào Tạo \n",
      "Trường Đại Học Khoa Học Tự Nhiên \n",
      " \n",
      " \n",
      " \n",
      "Bộ Môn: Phương pháp nghiên cứu khoa học  \n",
      "Đề Tài: Image Captioning \n",
      " \n",
      "Giáo viên hướng dẫn: TG.Vũ Tiến Dũng \n",
      "Sinh viên thực hiện:   Ngu\n",
      "\n",
      "--- PAGE 2 ---\n",
      "Mục Lục \n",
      " \n",
      "I. Giới thiệu .............................................................................. 3 \n",
      "1.Image Captioning là gì? ...................................................... 3 \n",
      "2.Ứng d\n",
      "\n",
      "--- PAGE 3 ---\n",
      "I. \n",
      "Giới thiệu \n",
      "1. Image Captioning là gì? \n",
      " Image captioning là một lĩnh vực của trí tuệ nhân tạo (AI) và học sâu, nó \n",
      "kết hợp các kỹ thuật xử lý hình ảnh và xử lý ngôn ngữ tự nhiên (NLP) để t\n",
      "\n",
      "--- PAGE 4 ---\n",
      " Thị giác máy tính: Image captioning là một phần quan trọng trong lĩnh \n",
      "vực thị giác máy tính, giúp máy tính hiểu rõ hơn về nội dung của hình \n",
      "ảnh và có thể đưa ra các quyết định dựa trên nội dung\n",
      "\n",
      "--- PAGE 5 ---\n",
      "CNN, LSTM và visual attention để tạo ra các mô tả văn bản chất lượng cao \n",
      "cho hình ảnh. \n",
      " \n",
      "2. Kiến trúc mô hình \n",
      " Kiến trúc mô hình gồm hai phần chính: Encoder và Decoder. \n",
      " Phần Encoder có nhiệm\n",
      "\n",
      "--- PAGE 6 ---\n",
      "Figure 2. Ảnh mô tả hoạt động của encoder và decoder \n",
      " \n",
      "3. Chi tiết mô hình \n",
      " \n",
      "Figure 3. Một ô LSTM, các đường có hình vuông in đậm ngụ ý các hình \n",
      "chiếu với một vectơ trọng lượng đã học. Mỗi ô học\n",
      "\n",
      "--- PAGE 7 ---\n",
      " Đầu vào của encoder là một ảnh, và qua các lớp tích chập và lớp \n",
      "pooling, các đặc trưng của ảnh sẽ được trích xuất và đi qua một hoặc \n",
      "nhiều lớp ẩn để tạo ra biểu diễn trừu tượng của ảnh. \n",
      " Sau đ\n",
      "\n",
      "--- PAGE 8 ---\n",
      "Chi tiết về các thuật toán trong bài toán  \n",
      " \n",
      "Figure 4. Tổng quát hóa công thức Encoder-Decoder với LSTM \n",
      " \n",
      " \n",
      " Trong đó: \n",
      "o image: Ảnh đầu vào. \n",
      "o max_len: Số lượng từ tối đa trong một câu captio\n",
      "\n",
      "--- PAGE 9 ---\n",
      "Figure 5. Encoder và Decoder với Attention \n",
      " Quá trình tính attention score và vector context được thực hiện như sau: \n",
      "o Tính hidden state của LSTM tại thời điểm hiện tại. \n",
      "o Tính attention score\n",
      "\n",
      "--- PAGE 10 ---\n",
      "được tính bằng cách lấy tổng các giá trị log xác suất của từ đúng tương ứng \n",
      "với mỗi bước giải mã. Khi đó, hàm mất mát được biểu diễn như sau: \n",
      "L=−N1∑i=1N∑t=1Tlogp(yti∣xi) \n",
      " \n",
      " Trong đó: \n",
      "o L: Hàm m\n",
      "\n",
      "--- PAGE 11 ---\n",
      "III. \n",
      "Tóm tắt \n",
      "Để hiểu hơn về cách thức hoạt động của chương trình, nhóm em sẽ tóm tắt các \n",
      "bước hoạt động như sau: \n",
      "1. Mô hình đầu vào là một hình ảnh, được biểu diễn bằng một ma trận các giá \n",
      "tr\n",
      "\n",
      "--- PAGE 12 ---\n",
      "IV. \n",
      "Tập dữ liệu \n",
      " Chúng em sử dụng tập dữ liệu được gọi là COCO (Common Objects in \n",
      "Context). \n",
      " COCO là bộ dữ liệu lớn hơn và đa dạng hơn, với hơn 300.000 ảnh và hơn 2 \n",
      "triệu chú thích. Điều này\n",
      "\n",
      "--- PAGE 13 ---\n",
      "_ Phân tách câu -> từ thành mã hóa \n",
      " Các từ trong câu được phân tách/mã hóa và mã hóa trong một biểu diễn \n",
      "nóng \n",
      " Các mã hóa này sau đó được chuyển đến lớp nhúng để tạo các từ nhúng \n",
      " \n",
      " \n",
      " \n",
      "_\n",
      "\n",
      "--- PAGE 14 ---\n",
      "_ Suy luận \n",
      " Learning Curve (Loss Curve): \n",
      " Mô hình rõ ràng là quá khớp, có thể do lượng dữ liệu ít hơn \n",
      " Chúng ta có thể giải quyết vấn đề này theo hai cách \n",
      "o Huấn luyện mô hình trên tập dữ l\n",
      "\n",
      "--- PAGE 15 ---\n",
      "_ Lấy ngẫu nhiên 15 hình ảnh để dự đoán: \n",
      "+ Kết quả: \n",
      "+ Có thể thấy rõ ràng, có một số cách tạo phụ đề dư thừa, ví dụ: Con chó chạy \n",
      "trong nước, lạm dụng áo màu xanh cho bất kỳ loại vải màu nào khác\n",
      "\n",
      "--- PAGE 16 ---\n",
      "VI. \n",
      "Kết luận \n",
      " Kết quả của thuật toán Image Captioning được đánh giá bằng cách sử dụng \n",
      "hai độ đo là BLEU và METEOR. Trong repository này, độ đo BLEU đạt \n",
      "được là 0.54, độ đo METEOR đạt được là 0.\n"
     ]
    }
   ],
   "source": [
    "reader = PDFReader()\n",
    "pdf_file = \"data/raw/bao_cao_ imagecaptioning.pdf\"\n",
    "texts = reader.read_pdf(pdf_file)\n",
    "\n",
    "for i, page_text in enumerate(texts):\n",
    "    print(f\"\\n--- PAGE {i + 1} ---\")\n",
    "    print(page_text[:200].strip() or \"[Trang trống]\")"
   ]
  },
  {
   "cell_type": "code",
   "execution_count": 7,
   "id": "829c9355",
   "metadata": {},
   "outputs": [],
   "source": [
    "from qdrant_client import QdrantClient"
   ]
  },
  {
   "cell_type": "code",
   "execution_count": 8,
   "id": "bb5634b7",
   "metadata": {},
   "outputs": [],
   "source": [
    "client = QdrantClient(host=\"localhost\", port=6333)\n"
   ]
  },
  {
   "cell_type": "code",
   "execution_count": 9,
   "id": "f61c24d9",
   "metadata": {},
   "outputs": [
    {
     "data": {
      "text/plain": [
       "<qdrant_client.qdrant_client.QdrantClient at 0x75fcd4a13290>"
      ]
     },
     "execution_count": 9,
     "metadata": {},
     "output_type": "execute_result"
    }
   ],
   "source": [
    "client"
   ]
  },
  {
   "cell_type": "code",
   "execution_count": 12,
   "id": "78c19384",
   "metadata": {},
   "outputs": [
    {
     "name": "stdout",
     "output_type": "stream",
     "text": [
      "Collection `pdf_documents` hiện có None vectors.\n"
     ]
    }
   ],
   "source": [
    "from qdrant_client import QdrantClient\n",
    "from src.utils.config import get_settings\n",
    "\n",
    "settings = get_settings()\n",
    "\n",
    "\n",
    "client = QdrantClient(host=settings.QDRANT_HOST, port=settings.QDRANT_PORT)\n",
    "collection_name = settings.COLLECTION_NAME\n",
    "\n",
    "# Lấy thông tin collection\n",
    "info = client.get_collection(collection_name=collection_name)\n",
    "print(f\"Collection `{collection_name}` hiện có {info.vectors_count} vectors.\")"
   ]
  }
 ],
 "metadata": {
  "kernelspec": {
   "display_name": "qdrant",
   "language": "python",
   "name": "python3"
  },
  "language_info": {
   "codemirror_mode": {
    "name": "ipython",
    "version": 3
   },
   "file_extension": ".py",
   "mimetype": "text/x-python",
   "name": "python",
   "nbconvert_exporter": "python",
   "pygments_lexer": "ipython3",
   "version": "3.12.9"
  }
 },
 "nbformat": 4,
 "nbformat_minor": 5
}
